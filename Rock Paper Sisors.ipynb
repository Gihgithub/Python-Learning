{
 "cells": [
  {
   "cell_type": "code",
   "execution_count": 88,
   "id": "4e19bc2b",
   "metadata": {},
   "outputs": [
    {
     "name": "stdout",
     "output_type": "stream",
     "text": [
      "'r' for Rock, 'p' for Papare, 's' for Sissors\n",
      "s\n",
      "user : s\n",
      "computer : p\n",
      "User Wins\n"
     ]
    }
   ],
   "source": [
    "import random\n",
    "\n",
    "def play():\n",
    "    user = input (\"'r' for Rock, 'p' for Papare, 's' for Sissors\\n\")\n",
    "    computer = random.choice(['r','p','s'])\n",
    "    \n",
    "    print(f'user : {user}')\n",
    "    print(f'computer : {computer}')\n",
    "    if user == computer:\n",
    "        return 'Its a Tie'\n",
    "    if is_win(user, computer):\n",
    "        return 'User Wins'\n",
    "    if is_win(computer, user):\n",
    "        return 'computer wins'\n",
    "\n",
    "def is_win(player, opponent):\n",
    "    # return true if player wins\n",
    "    # r > s, s > p, p > r\n",
    "    if (player == 'r'\n",
    "        and opponent == 's') or (player == 's' and opponent == 'p') \\\n",
    "        or (player == 'p' and opponent == 'r'):\n",
    "        return True\n",
    "    \n",
    "print(play())\n",
    "\n",
    "    \n",
    "\n",
    "\n",
    "\n"
   ]
  },
  {
   "cell_type": "code",
   "execution_count": null,
   "id": "b3b4ad4b",
   "metadata": {},
   "outputs": [],
   "source": []
  },
  {
   "cell_type": "code",
   "execution_count": null,
   "id": "b755f1f4",
   "metadata": {},
   "outputs": [],
   "source": []
  },
  {
   "cell_type": "code",
   "execution_count": null,
   "id": "9006447f",
   "metadata": {},
   "outputs": [],
   "source": []
  }
 ],
 "metadata": {
  "kernelspec": {
   "display_name": "Python 3",
   "language": "python",
   "name": "python3"
  },
  "language_info": {
   "codemirror_mode": {
    "name": "ipython",
    "version": 3
   },
   "file_extension": ".py",
   "mimetype": "text/x-python",
   "name": "python",
   "nbconvert_exporter": "python",
   "pygments_lexer": "ipython3",
   "version": "3.8.8"
  }
 },
 "nbformat": 4,
 "nbformat_minor": 5
}
