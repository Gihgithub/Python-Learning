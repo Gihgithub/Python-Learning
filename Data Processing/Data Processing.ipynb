{
 "cells": [
  {
   "cell_type": "markdown",
   "id": "b44132ec",
   "metadata": {},
   "source": [
    "###  DATA POCESSING"
   ]
  },
  {
   "cell_type": "markdown",
   "id": "2a874501",
   "metadata": {},
   "source": [
    "#### Reading txt data processing and writing to a CSV file"
   ]
  },
  {
   "cell_type": "code",
   "execution_count": 37,
   "id": "8e2e4ac4",
   "metadata": {},
   "outputs": [
    {
     "name": "stdout",
     "output_type": "stream",
     "text": [
      "        Time Bid/Ask    Price          Volume\n",
      "0   05:01.62     Ask  1.16198  1000000000.0\\n\n",
      "1   05:08.62     Bid  1.76786   100000000.0\\n\n",
      "2   06:08.62     Bid  1.16198  1000000000.0\\n\n",
      "3   05:05.62     Ask  1.16781   100000000.0\\n\n",
      "4   05:08.22     Bid  1.16198  1000000000.0\\n\n",
      "5   07:08.62     Ask  1.16787     1000000.0\\n\n",
      "6   05:08.22     Ask  1.16198  1000000000.0\\n\n",
      "7   07:08.62     Ask  1.14787     1000000.0\\n\n",
      "8   02:08.22     Bid  1.36198   100000000.0\\n\n",
      "9   07:08.62     Ask  1.14787     1000000.0\\n\n",
      "10  05:08.22     Bid  1.16198  1000000000.0\\n\n",
      "11  07:08.62     Ask  1.24787  1000000000.0\\n\n",
      "12  01:08.22     Ask  1.66198  1000000000.0\\n\n",
      "13  07:08.62     Ask  1.14787   100000000.0\\n\n",
      "14  05:08.22     Ask  1.46198  1000000000.0\\n\n",
      "15  09:08.62     Bid  1.14787      100000.0\\n\n",
      "16  05:08.22     Ask  1.46198  1000000000.0\\n\n",
      "17  01:08.52     Bid  1.14787    10000000.0\\n\n"
     ]
    }
   ],
   "source": [
    "import pandas as pd\n",
    "\n",
    "# Truncating all the data from the results file\n",
    "t = open (\"results.csv\",\"w\")\n",
    "t.truncate()\n",
    "t.close()\n",
    "\n",
    "# Defining the data frame to store the processed data\n",
    "df = pd.DataFrame(columns=['Time', 'Bid/Ask', 'Price', 'Volume'])\n",
    "          \n",
    "# Reading the txt data line by line using readline()\n",
    "with open('raw_data.txt') as r:\n",
    "    line = r.readline()\n",
    "    ctn = 0\n",
    "    while line:\n",
    "        line = []\n",
    "        new_line = []\n",
    "        line = r.readline()\n",
    "        str = line\n",
    "        #print (len(str))\n",
    "        if len(str)>45:\n",
    "         new_line.append(str[14:22]) \n",
    "         #rint(str[29])\n",
    "         if str[29]=='0':\n",
    "            new_line.append('Bid')\n",
    "         if str[29]=='1':\n",
    "            new_line.append('Ask') \n",
    "         new_line.append(str[33:40])\n",
    "         new_line.append(str[43:])\n",
    "         # Writing the new string to the data frame \n",
    "         df.loc[ctn] = new_line\n",
    "         ctn = ctn + 1\n",
    "print(df)\n",
    "# Writing the data frame to the CSV file with no index\n",
    "df.to_csv('results.csv', index=False)\n",
    "     \n",
    "        \n",
    "  "
   ]
  },
  {
   "cell_type": "code",
   "execution_count": null,
   "id": "75fe8514",
   "metadata": {},
   "outputs": [],
   "source": []
  }
 ],
 "metadata": {
  "kernelspec": {
   "display_name": "Python 3",
   "language": "python",
   "name": "python3"
  },
  "language_info": {
   "codemirror_mode": {
    "name": "ipython",
    "version": 3
   },
   "file_extension": ".py",
   "mimetype": "text/x-python",
   "name": "python",
   "nbconvert_exporter": "python",
   "pygments_lexer": "ipython3",
   "version": "3.8.8"
  }
 },
 "nbformat": 4,
 "nbformat_minor": 5
}
