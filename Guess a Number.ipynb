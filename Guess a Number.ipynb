{
 "cells": [
  {
   "cell_type": "code",
   "execution_count": null,
   "id": "f67a3a2b",
   "metadata": {},
   "outputs": [],
   "source": [
    "import random \n",
    "guess_number=3\n",
    "x=6\n",
    "                                              # define a function \n",
    "random_number=random.randint(1,x)\n",
    "print('Game : Guess the number')\n",
    "guess=0\n",
    "while guess != random_number:\n",
    "    guess = int(input (f'Guess a Number between 1 & {x} '))\n",
    "print(f'the number the computer guessed is {guess}')      \n",
    "                  \n",
    "\n"
   ]
  },
  {
   "cell_type": "markdown",
   "id": "7975f32e",
   "metadata": {},
   "source": [
    "## Madlib function to display"
   ]
  },
  {
   "cell_type": "code",
   "execution_count": null,
   "id": "c0835adc",
   "metadata": {},
   "outputs": [],
   "source": [
    "brand=input(\"enter the brand of the computer  \")\n",
    "year = input(\"enter the number of years  \")\n",
    "\n",
    "madlib=f\"This is a {brand} brand computer. It is {year} years old\"\n",
    "print(madlib)"
   ]
  },
  {
   "cell_type": "markdown",
   "id": "bca17c07",
   "metadata": {},
   "source": [
    "## String Concatination"
   ]
  },
  {
   "cell_type": "code",
   "execution_count": null,
   "id": "c8d6f2e5",
   "metadata": {},
   "outputs": [],
   "source": [
    "calculation_units=60*24\n",
    "Unit_type=\" minutes\"\n",
    "\n",
    "\n",
    "def days_to_units(num_of_days,custom_message):\n",
    "    print(\"Start of the function\")\n",
    "    int(user_input)\n",
    "    print(num_of_days+\" days are \"+user_input*calculation_units+\" Minutes\")\n",
    "    print(custom_message)\n",
    "    print(\"All Good\")\n",
    "    \n",
    "user_input=input(\"Hi User, input a number\\n\") # user input store in a variable \n",
    "int(user_input) # Turning a string to integer\n",
    "print(user_input)\n",
    "    \n",
    "days_to_units(user_input, \"awosome great\")\n"
   ]
  },
  {
   "cell_type": "code",
   "execution_count": null,
   "id": "d2e0e621",
   "metadata": {},
   "outputs": [],
   "source": [
    "x = 'Java is a powerful programming language'\n",
    "y = x.replace('Java', 'Python')\n",
    "y"
   ]
  },
  {
   "cell_type": "code",
   "execution_count": null,
   "id": "461cafa0",
   "metadata": {},
   "outputs": [],
   "source": [
    "print (\"Hii space left is just %.3f gb, and  the data base is %s\"  %(0.987, 'mysql'))"
   ]
  },
  {
   "cell_type": "code",
   "execution_count": null,
   "id": "a54b6c33",
   "metadata": {},
   "outputs": [],
   "source": [
    "import datetime \n",
    "print(datetime.date(2017,3,2))"
   ]
  },
  {
   "cell_type": "code",
   "execution_count": null,
   "id": "efbfb45b",
   "metadata": {},
   "outputs": [],
   "source": [
    "from datetime import datetime\n",
    "\n",
    "now = datetime.now()\n",
    "\n",
    "\n",
    "print(\"Current Time =\", now)"
   ]
  },
  {
   "cell_type": "markdown",
   "id": "37602f4e",
   "metadata": {},
   "source": [
    "## If Statement\n",
    "else: Catches everything that is not caught on the IF statements"
   ]
  },
  {
   "cell_type": "code",
   "execution_count": null,
   "id": "ec28b1d5",
   "metadata": {},
   "outputs": [],
   "source": [
    "import time\n",
    "\n",
    "username = 'kylie'\n",
    "password = 'secretpassword'\n",
    "username_input = input('Username: ')\n",
    "password_input = input('Password: ')\n",
    "if username_input == username and password_input == password:\n",
    "    print('Access granted')\n",
    "    print('Please wait')\n",
    "    time.sleep(5)\n",
    "    print('Ok... Loading...')\n",
    "    time.sleep(1)\n",
    "    print('...')\n",
    "    time.sleep(1)\n",
    "    print('...')\n",
    "    print('Alright you have security clearance. Pulling up the secret mainframe.')\n",
    "elif username_input == username and password_input != password:\n",
    "    print('Password incorrect')\n",
    "elif username_input != username and password_input == password:\n",
    "    print('Username incorrect')\n",
    "else:\n",
    "    time.sleep(10)\n",
    "    print('Both Username and Passowrd Incorrect')"
   ]
  },
  {
   "cell_type": "markdown",
   "id": "a298e302",
   "metadata": {},
   "source": [
    "## While loop"
   ]
  },
  {
   "cell_type": "code",
   "execution_count": null,
   "id": "5f78c35d",
   "metadata": {},
   "outputs": [],
   "source": [
    "x=3\n",
    "print(x)\n",
    "\n",
    "while x < 5:\n",
    "    x=int(input (f\"input a number\" ))\n",
    "    print(x)"
   ]
  },
  {
   "cell_type": "code",
   "execution_count": null,
   "id": "34d08258",
   "metadata": {},
   "outputs": [],
   "source": []
  }
 ],
 "metadata": {
  "kernelspec": {
   "display_name": "Python 3",
   "language": "python",
   "name": "python3"
  },
  "language_info": {
   "codemirror_mode": {
    "name": "ipython",
    "version": 3
   },
   "file_extension": ".py",
   "mimetype": "text/x-python",
   "name": "python",
   "nbconvert_exporter": "python",
   "pygments_lexer": "ipython3",
   "version": "3.8.8"
  }
 },
 "nbformat": 4,
 "nbformat_minor": 5
}
