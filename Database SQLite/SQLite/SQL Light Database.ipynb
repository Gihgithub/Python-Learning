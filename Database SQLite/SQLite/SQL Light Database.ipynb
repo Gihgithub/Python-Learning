{
 "cells": [
  {
   "cell_type": "code",
   "execution_count": 1,
   "id": "a1db3de7",
   "metadata": {},
   "outputs": [],
   "source": [
    "# Importing the built in sqllite library\n",
    "import sqlite3 as sl"
   ]
  },
  {
   "cell_type": "code",
   "execution_count": 4,
   "id": "12dcd030",
   "metadata": {},
   "outputs": [],
   "source": [
    "#Create an SQLite connection. If the database does not exit it will create a blank database\n",
    "con = sl.connect('my_test.db')"
   ]
  },
  {
   "cell_type": "code",
   "execution_count": 6,
   "id": "3da3b2aa",
   "metadata": {
    "scrolled": true
   },
   "outputs": [
    {
     "ename": "OperationalError",
     "evalue": "table USER already exists",
     "output_type": "error",
     "traceback": [
      "\u001b[1;31m---------------------------------------------------------------------------\u001b[0m",
      "\u001b[1;31mOperationalError\u001b[0m                          Traceback (most recent call last)",
      "\u001b[1;32m<ipython-input-6-e7a668a8f0f2>\u001b[0m in \u001b[0;36m<module>\u001b[1;34m\u001b[0m\n\u001b[0;32m      1\u001b[0m \u001b[1;32mwith\u001b[0m \u001b[0mcon\u001b[0m\u001b[1;33m:\u001b[0m\u001b[1;33m\u001b[0m\u001b[1;33m\u001b[0m\u001b[0m\n\u001b[1;32m----> 2\u001b[1;33m     con.execute(\"\"\"\n\u001b[0m\u001b[0;32m      3\u001b[0m         CREATE TABLE USER (\n\u001b[0;32m      4\u001b[0m             \u001b[0mid\u001b[0m \u001b[0mINTEGER\u001b[0m \u001b[0mNOT\u001b[0m \u001b[0mNULL\u001b[0m \u001b[0mPRIMARY\u001b[0m \u001b[0mKEY\u001b[0m \u001b[0mAUTOINCREMENT\u001b[0m\u001b[1;33m,\u001b[0m\u001b[1;33m\u001b[0m\u001b[1;33m\u001b[0m\u001b[0m\n\u001b[0;32m      5\u001b[0m             \u001b[0mname\u001b[0m \u001b[0mTEXT\u001b[0m\u001b[1;33m,\u001b[0m\u001b[1;33m\u001b[0m\u001b[1;33m\u001b[0m\u001b[0m\n",
      "\u001b[1;31mOperationalError\u001b[0m: table USER already exists"
     ]
    }
   ],
   "source": [
    "Creating a Table in the Database\n",
    "with con:\n",
    "    con.execute(\"\"\"\n",
    "        CREATE TABLE USER (\n",
    "            id INTEGER NOT NULL PRIMARY KEY AUTOINCREMENT,\n",
    "            name TEXT,\n",
    "            age INTEGER\n",
    "        );\n",
    "    \"\"\")"
   ]
  },
  {
   "cell_type": "code",
   "execution_count": 14,
   "id": "a9437dad",
   "metadata": {},
   "outputs": [],
   "source": [
    "#Suppose we want to insert multiple entries in one go\n",
    "sql = 'INSERT INTO USER (id, name, age) values(?, ?, ?)'\n",
    "data = [\n",
    "    (1, 'Alice', 21),\n",
    "    (2, 'Bob', 22),\n",
    "    (3, 'Chris', 23)\n",
    "]"
   ]
  },
  {
   "cell_type": "code",
   "execution_count": 15,
   "id": "b418d4ff",
   "metadata": {},
   "outputs": [],
   "source": [
    "#define the SQL statement with question marks ? as a placeholder\n",
    "with con:\n",
    "    con.executemany(sql, data)"
   ]
  },
  {
   "cell_type": "code",
   "execution_count": 17,
   "id": "0495a7d2",
   "metadata": {},
   "outputs": [
    {
     "name": "stdout",
     "output_type": "stream",
     "text": [
      "(1, 'Alice', 21)\n",
      "(2, 'Bob', 22)\n",
      "(3, 'Chris', 23)\n"
     ]
    }
   ],
   "source": [
    "with con:\n",
    "    data = con.execute(\"SELECT * FROM USER\")\n",
    "    for row in data:\n",
    "        print(row)"
   ]
  },
  {
   "cell_type": "code",
   "execution_count": 16,
   "id": "8206f093",
   "metadata": {},
   "outputs": [
    {
     "name": "stdout",
     "output_type": "stream",
     "text": [
      "(1, 'Alice', 21)\n",
      "(2, 'Bob', 22)\n"
     ]
    }
   ],
   "source": [
    "with con:\n",
    "    data = con.execute(\"SELECT * FROM USER WHERE age <= 22\")\n",
    "    for row in data:\n",
    "        print(row)"
   ]
  },
  {
   "cell_type": "code",
   "execution_count": null,
   "id": "f63da944",
   "metadata": {},
   "outputs": [],
   "source": []
  },
  {
   "cell_type": "markdown",
   "id": "9f4dc7ef",
   "metadata": {},
   "source": [
    "## Seamless integration with Pandas"
   ]
  },
  {
   "cell_type": "code",
   "execution_count": 24,
   "id": "97aa9f42",
   "metadata": {},
   "outputs": [],
   "source": [
    "import pandas as pd\n",
    "# Define a data Frame\n",
    "df_skill = pd.DataFrame({\n",
    "    'user_id': [1,1,2,2,3,3,3],\n",
    "    'skill': ['Network Security', 'Algorithm Development', 'Network Security', 'Java', 'Python', 'Data Science', 'Machine Learning']\n",
    "})"
   ]
  },
  {
   "cell_type": "code",
   "execution_count": 25,
   "id": "5d93201d",
   "metadata": {},
   "outputs": [],
   "source": [
    "# we can simply call to_sql() method of the data frame to save it into the database.\n",
    "df_skill.to_sql('SKILL', con)"
   ]
  },
  {
   "cell_type": "code",
   "execution_count": 26,
   "id": "3d8f97bd",
   "metadata": {},
   "outputs": [
    {
     "name": "stdout",
     "output_type": "stream",
     "text": [
      "(0, 1, 'Network Security')\n",
      "(1, 1, 'Algorithm Development')\n",
      "(2, 2, 'Network Security')\n",
      "(3, 2, 'Java')\n",
      "(4, 3, 'Python')\n",
      "(5, 3, 'Data Science')\n",
      "(6, 3, 'Machine Learning')\n"
     ]
    }
   ],
   "source": [
    "# Checking the data in the database\n",
    "with con:\n",
    "    data = con.execute(\"SELECT * FROM SKILL\")\n",
    "    for row in data:\n",
    "        print(row)"
   ]
  },
  {
   "cell_type": "code",
   "execution_count": 27,
   "id": "c20f31e9",
   "metadata": {},
   "outputs": [],
   "source": [
    "#join the table USER and SKILL, and read the result into a Pandas data frame. \n",
    "\n",
    "df = pd.read_sql('''\n",
    "    SELECT s.user_id, u.name, u.age, s.skill \n",
    "    FROM USER u LEFT JOIN SKILL s ON u.id = s.user_id\n",
    "''', con)"
   ]
  },
  {
   "cell_type": "code",
   "execution_count": 29,
   "id": "2651b526",
   "metadata": {},
   "outputs": [],
   "source": [
    "#Writing the dataframe to datbase \n",
    "df.to_sql('USER_SKILL', con)"
   ]
  },
  {
   "cell_type": "code",
   "execution_count": 30,
   "id": "00b35535",
   "metadata": {},
   "outputs": [
    {
     "name": "stdout",
     "output_type": "stream",
     "text": [
      "(0, 1, 'Alice', 21, 'Algorithm Development')\n",
      "(1, 1, 'Alice', 21, 'Network Security')\n",
      "(2, 2, 'Bob', 22, 'Java')\n",
      "(3, 2, 'Bob', 22, 'Network Security')\n",
      "(4, 3, 'Chris', 23, 'Data Science')\n",
      "(5, 3, 'Chris', 23, 'Machine Learning')\n",
      "(6, 3, 'Chris', 23, 'Python')\n"
     ]
    }
   ],
   "source": [
    "# Checking the data in the database\n",
    "with con:\n",
    "    data = con.execute(\"SELECT * FROM USER_SKILL\")\n",
    "    for row in data:\n",
    "        print(row)"
   ]
  },
  {
   "cell_type": "code",
   "execution_count": null,
   "id": "2eac727a",
   "metadata": {},
   "outputs": [],
   "source": []
  }
 ],
 "metadata": {
  "kernelspec": {
   "display_name": "Python 3",
   "language": "python",
   "name": "python3"
  },
  "language_info": {
   "codemirror_mode": {
    "name": "ipython",
    "version": 3
   },
   "file_extension": ".py",
   "mimetype": "text/x-python",
   "name": "python",
   "nbconvert_exporter": "python",
   "pygments_lexer": "ipython3",
   "version": "3.8.8"
  }
 },
 "nbformat": 4,
 "nbformat_minor": 5
}
