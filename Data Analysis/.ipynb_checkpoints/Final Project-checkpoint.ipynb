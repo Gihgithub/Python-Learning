{
 "cells": [
  {
   "cell_type": "code",
   "execution_count": null,
   "id": "8bc0ec4a",
   "metadata": {},
   "outputs": [],
   "source": [
    "import numpy as np\n",
    "import pandas as pd\n",
    "import matplotlib.pyplot as plt\n",
    "\n",
    "%matplotlib inline"
   ]
  },
  {
   "cell_type": "markdown",
   "id": "d27f2621",
   "metadata": {},
   "source": [
    "#### Loading Data\n",
    "\n",
    "\n",
    "\n"
   ]
  },
  {
   "cell_type": "code",
   "execution_count": null,
   "id": "16126f90",
   "metadata": {},
   "outputs": [],
   "source": [
    "# Getting data\n",
    "# df_excel = pd.read_excel ('sales_data.xlsx') \n",
    "# df_txt = pd.read_csv ('sales_data.txt', delimiter = '\\t')\n",
    "df_sales = pd.read_csv('sales_data.csv', parse_dates=['Date'])"
   ]
  },
  {
   "cell_type": "markdown",
   "id": "41527e12",
   "metadata": {},
   "source": [
    "#### EAD - EXploratory Data Analysis"
   ]
  },
  {
   "cell_type": "code",
   "execution_count": null,
   "id": "e8df1be8",
   "metadata": {
    "scrolled": true
   },
   "outputs": [],
   "source": [
    "df_sales.head()"
   ]
  },
  {
   "cell_type": "code",
   "execution_count": null,
   "id": "cfa881e5",
   "metadata": {},
   "outputs": [],
   "source": [
    "df_sales.tail()"
   ]
  },
  {
   "cell_type": "code",
   "execution_count": null,
   "id": "ebb3dc47",
   "metadata": {
    "scrolled": true
   },
   "outputs": [],
   "source": [
    "df_sales.columns"
   ]
  },
  {
   "cell_type": "code",
   "execution_count": null,
   "id": "9a4e4595",
   "metadata": {},
   "outputs": [],
   "source": [
    "df_sales.dtypes"
   ]
  },
  {
   "cell_type": "code",
   "execution_count": null,
   "id": "e6570fab",
   "metadata": {},
   "outputs": [],
   "source": [
    "df_sales.shape"
   ]
  },
  {
   "cell_type": "code",
   "execution_count": null,
   "id": "b8b1b808",
   "metadata": {},
   "outputs": [],
   "source": [
    "# Check descriptive Statistics\n",
    "df_sales.describe()"
   ]
  },
  {
   "cell_type": "code",
   "execution_count": null,
   "id": "e986b3fa",
   "metadata": {
    "scrolled": true
   },
   "outputs": [],
   "source": [
    "# Check descriptive Statistics for one column\n",
    "df_sales.Year.describe()"
   ]
  },
  {
   "cell_type": "code",
   "execution_count": null,
   "id": "b51b9501",
   "metadata": {
    "scrolled": true
   },
   "outputs": [],
   "source": [
    "df_sales.info()"
   ]
  },
  {
   "cell_type": "code",
   "execution_count": null,
   "id": "77724a0d",
   "metadata": {},
   "outputs": [],
   "source": [
    "df_sales.sum()"
   ]
  },
  {
   "cell_type": "code",
   "execution_count": null,
   "id": "fb0cf419",
   "metadata": {},
   "outputs": [],
   "source": [
    "df_sales.count()"
   ]
  },
  {
   "cell_type": "markdown",
   "id": "cfc50433",
   "metadata": {},
   "source": [
    "#### Slicing Selecting specific columns"
   ]
  },
  {
   "cell_type": "code",
   "execution_count": null,
   "id": "2a1865d9",
   "metadata": {
    "scrolled": false
   },
   "outputs": [],
   "source": [
    "#all ways use data frame method with brackets    [  ], gives the first five rows\n",
    "df_sales[['Country','Order_Quantity']].head()"
   ]
  },
  {
   "cell_type": "code",
   "execution_count": null,
   "id": "07864ddf",
   "metadata": {
    "scrolled": true
   },
   "outputs": [],
   "source": [
    "# This is data series \n",
    "df_sales.Country"
   ]
  },
  {
   "cell_type": "markdown",
   "id": "066c2817",
   "metadata": {},
   "source": [
    "#### Selecting a Subset of data - DATA FILTERING"
   ]
  },
  {
   "cell_type": "code",
   "execution_count": null,
   "id": "6546115b",
   "metadata": {},
   "outputs": [],
   "source": [
    "# Count the number of values in a row \n",
    "df_sales['Country'].value_counts()"
   ]
  },
  {
   "cell_type": "code",
   "execution_count": null,
   "id": "cbc00a7f",
   "metadata": {
    "scrolled": false
   },
   "outputs": [],
   "source": [
    "df_sales_canada = df_sales[df_sales['Country'] == 'Canada']\n",
    "df_sales_canada"
   ]
  },
  {
   "cell_type": "code",
   "execution_count": null,
   "id": "ddace0f9",
   "metadata": {},
   "outputs": [],
   "source": [
    "df_sales_age = df_sales[df_sales['Customer_Age'] > 40]\n",
    "df_sales_age"
   ]
  },
  {
   "cell_type": "markdown",
   "id": "9f7798d7",
   "metadata": {},
   "source": [
    "#### Column Manupilation (adding, Renaming and Deleting a Column)"
   ]
  },
  {
   "cell_type": "code",
   "execution_count": null,
   "id": "c515e794",
   "metadata": {},
   "outputs": [],
   "source": [
    "# Adding a Column\n",
    "df_sales[\"New_Column_50%_of_Profit\"] = df_sales[\"Profit\"] * 0.50\n",
    "df_sales.head()"
   ]
  },
  {
   "cell_type": "code",
   "execution_count": null,
   "id": "d21159e9",
   "metadata": {
    "scrolled": true
   },
   "outputs": [],
   "source": [
    "# Renaming columns - Dictionary substitution using rename method, Can rename only one columns\n",
    "df_sales = df_sales.rename (columns={'New_Column_50%_of_Profit':'50%_Profit'})\n",
    "df_sales.head()"
   ]
  },
  {
   "cell_type": "code",
   "execution_count": null,
   "id": "985caaa2",
   "metadata": {},
   "outputs": [],
   "source": [
    "# Dropping a Column, can drop multiple columns\n",
    "# axis=0 means on rows, axis=1 means on columns\n",
    "df_sales.drop(['50%_Profit'], axis=1)\n",
    "df_sales.head()"
   ]
  },
  {
   "cell_type": "markdown",
   "id": "0641101a",
   "metadata": {},
   "source": [
    "#### Pivot Tables"
   ]
  },
  {
   "cell_type": "code",
   "execution_count": null,
   "id": "27f3730f",
   "metadata": {},
   "outputs": [],
   "source": [
    "# Pivot table\n",
    "# Values - colums in bottom right aggregate column\n",
    "# Index - bottom left \n",
    "# columns - columns in the pivot table\n",
    "pd.pivot_table (df_sales, values='Revenue', index=['Country'], columns=['Customer_Gender'], aggfunc=np.sum)"
   ]
  },
  {
   "cell_type": "markdown",
   "id": "7198f8fa",
   "metadata": {},
   "source": [
    "#### Missing Values / Messy Data"
   ]
  },
  {
   "cell_type": "markdown",
   "id": "418c2f66",
   "metadata": {},
   "source": [
    "we went over techniques to detect, mark and replace missing values."
   ]
  },
  {
   "cell_type": "markdown",
   "id": "60d1988c",
   "metadata": {},
   "source": [
    "You would notice values like NA, NaN (Not a Number), and blank cells. These represent missing values.\n",
    "Pandas automatically marks blank values or values with NA as NaN (missing values).\n",
    "Pandas also assigns an index value to each row. Values containing NaN are ignored from operations like mean, sum"
   ]
  },
  {
   "cell_type": "markdown",
   "id": "a0118bee",
   "metadata": {},
   "source": [
    "In Pandas, we have two functions for marking missing values:\n",
    "isnull(): mark all NaN values in the dataset as True\n",
    "notnull(): mark all NaN values in the dataset as False."
   ]
  },
  {
   "cell_type": "markdown",
   "id": "7676a651",
   "metadata": {},
   "source": [
    " function that allows me to check for invalid data types in a column. Suppose I wish to ensure that all values in the ‘Salary’ column are of type int. I will use a function"
   ]
  },
  {
   "cell_type": "code",
   "execution_count": null,
   "id": "60f5553f",
   "metadata": {},
   "outputs": [],
   "source": [
    "df_sales.info()"
   ]
  },
  {
   "cell_type": "code",
   "execution_count": null,
   "id": "5947cb2d",
   "metadata": {},
   "outputs": [],
   "source": [
    "# Count the NULL Values\n",
    "df_sales.isnull().sum()\n",
    "\n",
    "# Count the number of missing values in a column\n",
    "#df_sales['Order_Quantity'].isna().sum()"
   ]
  },
  {
   "cell_type": "code",
   "execution_count": null,
   "id": "cdca4d29",
   "metadata": {
    "scrolled": true
   },
   "outputs": [],
   "source": [
    "# 1. Dropping missing values\n",
    "df_dropmissing = df_sales.dropna()\n",
    "df_dropmissing.info()"
   ]
  },
  {
   "cell_type": "code",
   "execution_count": null,
   "id": "9ca6fc53",
   "metadata": {
    "scrolled": true
   },
   "outputs": [],
   "source": [
    "# Finding the rows of the missing data\n",
    "#    Sales_missing = df_sales['Order_Quantity'].isna()\n",
    "#    df_sales.loc[Sales_missing,:]\n",
    "#delte/remove the missing value for rows 5 to 25. This will delete the rows\n",
    "#    df_sales_without_NULL=df_sales[5:25].dropna(how='any')\n",
    "#    df_sales_without_NULL.isnull().sum()"
   ]
  },
  {
   "cell_type": "code",
   "execution_count": null,
   "id": "254f90e6",
   "metadata": {
    "scrolled": true
   },
   "outputs": [],
   "source": [
    "# 2. Fill the missing values of order quantity with the mean value of order quantity\n",
    "#    Can be filled with Mean, Median, Mode\n",
    "df_sales_fillmissing = df_sales.fillna(df_sales.Order_Quantity.mean())\n",
    "df_sales_fillmissing.info()"
   ]
  },
  {
   "cell_type": "code",
   "execution_count": null,
   "id": "17adeb32",
   "metadata": {},
   "outputs": [],
   "source": [
    "# 3. Fill a value from another record\n",
    "# 4. Fill a contant value such as 0 \n",
    "# "
   ]
  },
  {
   "cell_type": "code",
   "execution_count": null,
   "id": "840c2e8d",
   "metadata": {
    "scrolled": true
   },
   "outputs": [],
   "source": [
    "sales['Customer_Age'].plot(kind='kde', figsize=(14,6))"
   ]
  },
  {
   "cell_type": "code",
   "execution_count": null,
   "id": "7b625186",
   "metadata": {},
   "outputs": [],
   "source": []
  },
  {
   "cell_type": "code",
   "execution_count": null,
   "id": "436a2275",
   "metadata": {},
   "outputs": [],
   "source": []
  },
  {
   "cell_type": "code",
   "execution_count": null,
   "id": "61812159",
   "metadata": {},
   "outputs": [],
   "source": [
    "sales['Customer_Age'].plot(kind='box', vert=False, figsize=(14,6))"
   ]
  },
  {
   "cell_type": "code",
   "execution_count": null,
   "id": "71f8ee6e",
   "metadata": {},
   "outputs": [],
   "source": [
    "sales['Customer_Age'].plot(kind='hist', bins=40, figsize=(14,6))"
   ]
  },
  {
   "cell_type": "code",
   "execution_count": null,
   "id": "97ab1eee",
   "metadata": {},
   "outputs": [],
   "source": [
    "sales['Year'].value_counts()"
   ]
  },
  {
   "cell_type": "code",
   "execution_count": null,
   "id": "0e3e00b0",
   "metadata": {},
   "outputs": [],
   "source": [
    "sales['Year'].value_counts().plot(kind='pie', figsize=(20,6))"
   ]
  },
  {
   "cell_type": "code",
   "execution_count": null,
   "id": "97492f77",
   "metadata": {},
   "outputs": [],
   "source": [
    "\n",
    "sales['Month'].value_counts()"
   ]
  },
  {
   "cell_type": "code",
   "execution_count": null,
   "id": "8d49916f",
   "metadata": {},
   "outputs": [],
   "source": [
    "\n",
    "sales['Month'].value_counts().plot(kind='bar', figsize=(14,6))"
   ]
  },
  {
   "cell_type": "code",
   "execution_count": null,
   "id": "bb65b73f",
   "metadata": {},
   "outputs": [],
   "source": [
    "sales['Country'].value_counts()"
   ]
  },
  {
   "cell_type": "code",
   "execution_count": null,
   "id": "56d928b9",
   "metadata": {},
   "outputs": [],
   "source": [
    "sales['Country'].value_counts().plot(kind='bar', figsize=(14,6))"
   ]
  },
  {
   "cell_type": "code",
   "execution_count": null,
   "id": "1c7065c9",
   "metadata": {},
   "outputs": [],
   "source": [
    "sales['Product'].value_counts()"
   ]
  },
  {
   "cell_type": "code",
   "execution_count": null,
   "id": "48955677",
   "metadata": {},
   "outputs": [],
   "source": [
    "sales['Product'].unique()"
   ]
  },
  {
   "cell_type": "code",
   "execution_count": null,
   "id": "41ef1226",
   "metadata": {},
   "outputs": [],
   "source": [
    "sales['Product'].value_counts().head(10).plot(kind='bar', figsize=(14,6))"
   ]
  },
  {
   "cell_type": "code",
   "execution_count": null,
   "id": "83782f1e",
   "metadata": {},
   "outputs": [],
   "source": []
  }
 ],
 "metadata": {
  "kernelspec": {
   "display_name": "Python 3",
   "language": "python",
   "name": "python3"
  },
  "language_info": {
   "codemirror_mode": {
    "name": "ipython",
    "version": 3
   },
   "file_extension": ".py",
   "mimetype": "text/x-python",
   "name": "python",
   "nbconvert_exporter": "python",
   "pygments_lexer": "ipython3",
   "version": "3.8.8"
  }
 },
 "nbformat": 4,
 "nbformat_minor": 5
}
