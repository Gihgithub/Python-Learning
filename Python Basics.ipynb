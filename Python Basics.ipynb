{
 "cells": [
  {
   "cell_type": "code",
   "execution_count": 6,
   "id": "34094d79",
   "metadata": {},
   "outputs": [
    {
     "name": "stdout",
     "output_type": "stream",
     "text": [
      "2019-02-16\n",
      "13:48:05\n",
      "2019-02-16 13:48:05\n"
     ]
    }
   ],
   "source": [
    "# time \n",
    "# from module_name import object_name\n",
    "\n",
    "import datetime\n",
    "feb_16_2019 = datetime.date(year=2019, month=2, day=16)\n",
    "feb_16_2019 = datetime.date(2019, 2, 16)\n",
    "print(feb_16_2019) #2019-02-16\n",
    " \n",
    "time_13_48min_5sec = datetime.time(hour=13, minute=48, second=5)\n",
    "time_13_48min_5sec = datetime.time(13, 48, 5)\n",
    "print(time_13_48min_5sec) #13:48:05\n",
    " \n",
    "timestamp= datetime.datetime(year=2019, month=2, day=16, hour=13, minute=48, second=5)\n",
    "timestamp = datetime.datetime(2019, 2, 16, 13, 48, 5)\n",
    "print (timestamp) #2019-01-02 13:48:05"
   ]
  },
  {
   "cell_type": "code",
   "execution_count": 37,
   "id": "22410a75",
   "metadata": {},
   "outputs": [
    {
     "name": "stdout",
     "output_type": "stream",
     "text": [
      "9\n",
      "1\n",
      "1989-06-09\n",
      "05:01:30\n"
     ]
    },
    {
     "data": {
      "text/plain": [
       "'06/09/89 05:01:30'"
      ]
     },
     "execution_count": 37,
     "metadata": {},
     "output_type": "execute_result"
    }
   ],
   "source": [
    "#Python date and time module provides datetime, date and time types\n",
    "from datetime import datetime\n",
    "td = datetime(1989,6,9,5,1, 30)# do not write number 6 as 06, you will get an invalid token error.\n",
    "print (td.day)\n",
    "print (td.minute)\n",
    "print (td.date())\n",
    "print (td.time())\n",
    "td.strftime('%m/%d/%y %H:%M:%S')#strf method converts the date and time into a string"
   ]
  },
  {
   "cell_type": "code",
   "execution_count": null,
   "id": "180be25f",
   "metadata": {},
   "outputs": [],
   "source": [
    "# Subtracting time \n",
    "from datetime import datetime, date, time\n",
    "td = datetime(1989,6,9,5,1, 30)\n",
    "td1 = datetime(1988,8, 31, 11, 2, 23)\n",
    "new_time =td1 - td # you can subtract two different date and time functions\n",
    "print new_time \n",
    "print type(new_time) # the type is date and time\n",
    "print td +new_time"
   ]
  },
  {
   "cell_type": "code",
   "execution_count": 4,
   "id": "da68118e",
   "metadata": {},
   "outputs": [
    {
     "name": "stdout",
     "output_type": "stream",
     "text": [
      "1989-09-11 00:00:00\n",
      "1989-06-09 05:01:30\n"
     ]
    }
   ],
   "source": [
    "from datetime import datetime, date, time\n",
    "td=datetime.strptime('1989911', '%Y%m%d') # strings can be converted to date and time objects using strptime\n",
    "print (td)\n",
    "\n",
    "td1 = datetime(1989,6,9,5,1, 30)\n",
    "td1.replace(hour =0 ,minute=0, second=30)#you can replace function to edit datetim function\n",
    "print(td1)"
   ]
  },
  {
   "cell_type": "code",
   "execution_count": 36,
   "id": "1008fee4",
   "metadata": {},
   "outputs": [
    {
     "name": "stdout",
     "output_type": "stream",
     "text": [
      "1\n",
      "125\n"
     ]
    }
   ],
   "source": [
    "\n",
    "# % for modulus (returns the remainder)\n",
    "# ** for exponentiation\n",
    "\n",
    "result1 = 25 % 2\n",
    "result2 = 5 ** 3\n",
    "\n",
    "print(result1)\n",
    "print(result2)"
   ]
  },
  {
   "cell_type": "code",
   "execution_count": 12,
   "id": "41bba8ba",
   "metadata": {},
   "outputs": [
    {
     "name": "stdout",
     "output_type": "stream",
     "text": [
      "2021-07-07 23:11:42.072266\n"
     ]
    }
   ],
   "source": [
    "from datetime import datetime\n",
    "date1=datetime.now()\n",
    "print(date1)"
   ]
  },
  {
   "cell_type": "code",
   "execution_count": 13,
   "id": "41f75797",
   "metadata": {},
   "outputs": [
    {
     "name": "stdout",
     "output_type": "stream",
     "text": [
      "You have a fish\n"
     ]
    }
   ],
   "source": [
    "# elif Statement\n",
    " \n",
    "pet_type = \"fish\"\n",
    " \n",
    "if pet_type == \"dog\":\n",
    "  print(\"You have a dog.\")\n",
    "elif pet_type == \"cat\":\n",
    "  print(\"You have a cat.\")\n",
    "elif pet_type == \"fish\":\n",
    "  # this is performed\n",
    "  print(\"You have a fish\")\n",
    "else:\n",
    "  print(\"Not sure!\")"
   ]
  },
  {
   "cell_type": "code",
   "execution_count": 16,
   "id": "b41ae9a0",
   "metadata": {},
   "outputs": [
    {
     "name": "stdout",
     "output_type": "stream",
     "text": [
      "They are equal\n",
      "They are NOT equal\n"
     ]
    }
   ],
   "source": [
    "# Equal operator\n",
    " \n",
    "if 'Yes' == 'Yes':\n",
    "  # evaluates to True\n",
    "  print('They are equal')\n",
    "\n",
    "# NOT Equal operator     \n",
    "if \"Yes\" != \"No\":\n",
    "  # evaluates to True\n",
    "  print(\"They are NOT equal\")"
   ]
  },
  {
   "cell_type": "code",
   "execution_count": 19,
   "id": "a77d1acd",
   "metadata": {},
   "outputs": [
    {
     "name": "stdout",
     "output_type": "stream",
     "text": [
      "1\n",
      "2\n",
      "3\n",
      "4\n",
      "5\n",
      "0\n",
      "1\n",
      "2\n",
      "WARNING\n",
      "WARNING\n",
      "WARNING\n"
     ]
    }
   ],
   "source": [
    "#each num in nums will be printed below\n",
    "nums = [1,2,3,4,5]\n",
    "for num in nums: \n",
    "  print(num)\n",
    "\n",
    "# Print the numbers 0, 1, 2:\n",
    "for i in range(3):\n",
    "  print(i)\n",
    " \n",
    "# Print \"WARNING\" 3 times:\n",
    "for i in range(3):\n",
    "  print(\"WARNING\")"
   ]
  },
  {
   "cell_type": "code",
   "execution_count": 20,
   "id": "e72e64bc",
   "metadata": {},
   "outputs": [
    {
     "name": "stdout",
     "output_type": "stream",
     "text": [
      "0\n",
      "254\n",
      "2\n",
      "Negative number detected!\n"
     ]
    }
   ],
   "source": [
    "# Infinite loops\n",
    "\n",
    "numbers = [0, 254, 2, -1, 3]\n",
    " \n",
    "for num in numbers:\n",
    "  if (num < 0):\n",
    "    print(\"Negative number detected!\")\n",
    "    break\n",
    "  print(num)"
   ]
  },
  {
   "cell_type": "code",
   "execution_count": 21,
   "id": "2cab7026",
   "metadata": {},
   "outputs": [
    {
     "name": "stdout",
     "output_type": "stream",
     "text": [
      "1\n",
      "2\n",
      "4\n",
      "5\n",
      "2\n"
     ]
    }
   ],
   "source": [
    "# Use continue to skip that iteration \n",
    "\n",
    "big_number_list = [1, 2, -1, 4, -5, 5, 2, -9]\n",
    " \n",
    "# Print only positive numbers:\n",
    "for i in big_number_list:\n",
    "  if i < 0:\n",
    "    continue\n",
    "  print(i)"
   ]
  },
  {
   "cell_type": "code",
   "execution_count": 22,
   "id": "a62d057b",
   "metadata": {},
   "outputs": [
    {
     "name": "stdout",
     "output_type": "stream",
     "text": [
      "1\n",
      "2\n",
      "3\n",
      "4\n",
      "5\n"
     ]
    }
   ],
   "source": [
    "# While Loop\n",
    "i = 1\n",
    "while i < 6:\n",
    "  print(i)\n",
    "  i = i + 1"
   ]
  },
  {
   "cell_type": "code",
   "execution_count": 28,
   "id": "b9ad3c79",
   "metadata": {},
   "outputs": [
    {
     "name": "stdout",
     "output_type": "stream",
     "text": [
      "This is not part of testfunction\n",
      "Inside the testfunction\n",
      "6\n"
     ]
    }
   ],
   "source": [
    "# Functions and Indentation\n",
    "# Function returns value\n",
    "\n",
    "def testfunction(number):\n",
    "  # This code is part of testfunction\n",
    "  print(\"Inside the testfunction\")\n",
    "  sum = 0\n",
    "  for x in range(number):\n",
    "    # More indentation because 'for' has a code block\n",
    "    # but still part of he function\n",
    "    sum += x\n",
    "  return sum\n",
    "print(\"This is not part of testfunction\")\n",
    "print(testfunction(4))"
   ]
  },
  {
   "cell_type": "code",
   "execution_count": 34,
   "id": "41765c9f",
   "metadata": {},
   "outputs": [
    {
     "name": "stdout",
     "output_type": "stream",
     "text": [
      "9 16 25\n"
     ]
    }
   ],
   "source": [
    "# Retun Multiple parameters\n",
    "\n",
    "def square_point(x, y, z):\n",
    "  x_squared = x * x\n",
    "  y_squared = y * y\n",
    "  z_squared = z * z\n",
    "  # Return all three values:\n",
    "  return x_squared, y_squared, z_squared\n",
    " \n",
    "three_squared, four_squared, five_squared = square_point(3, 4, 5)\n",
    "print(three_squared, four_squared, five_squared)\n"
   ]
  },
  {
   "cell_type": "code",
   "execution_count": null,
   "id": "c7bed8ad",
   "metadata": {},
   "outputs": [],
   "source": [
    "# Handling exceptions \n",
    "# will excucute the \"TRY\" code, if not possible will execute \"Except code\"\n",
    "def check_leap_year(year): \n",
    "  is_leap_year = False\n",
    "  if year % 4 == 0:\n",
    "    is_leap_year = True\n",
    " \n",
    "try:\n",
    "  check_leap_year(2018)\n",
    "  print(is_leap_year) \n",
    "  # The variable is_leap_year is declared inside the function\n",
    "except:\n",
    "  print('Your code raised an error!')"
   ]
  },
  {
   "cell_type": "code",
   "execution_count": 37,
   "id": "9150840b",
   "metadata": {},
   "outputs": [
    {
     "name": "stdout",
     "output_type": "stream",
     "text": [
      "Fred scored {} out of {} points.\n"
     ]
    },
    {
     "data": {
      "text/plain": [
       "'Fred tickled a fluffy hamster.'"
      ]
     },
     "execution_count": 37,
     "metadata": {},
     "output_type": "execute_result"
    }
   ],
   "source": [
    "# String format\n",
    "\n",
    "msg1 = 'Fred scored {} out of {} points.'\n",
    "msg1.format(3, 10)\n",
    "# => 'Fred scored 3 out of 10 points.'\n",
    "print(msg1)\n",
    "msg2 = 'Fred {verb} a {adjective} {noun}.'\n",
    "msg2.format(adjective='fluffy', verb='tickled', noun='hamster')\n",
    "# => 'Fred tickled a fluffy hamster.'"
   ]
  },
  {
   "cell_type": "code",
   "execution_count": 42,
   "id": "e5e61d48",
   "metadata": {},
   "outputs": [
    {
     "name": "stdout",
     "output_type": "stream",
     "text": [
      "5\n",
      "c\n"
     ]
    }
   ],
   "source": [
    "# random.randint(start, end)\n",
    "import random\n",
    "\n",
    "r1 = random.randint(0, 10)  \n",
    "print(r1) # Random integer where 0 <= r1 <= 10\n",
    " \n",
    "# Prints a random element from a sequence\n",
    "seq = [\"a\", \"b\", \"c\", \"d\", \"e\"]\n",
    "r2 = random.choice(seq)\n",
    "print(r2) # Random element in the sequence"
   ]
  },
  {
   "cell_type": "code",
   "execution_count": 45,
   "id": "3bf2260d",
   "metadata": {},
   "outputs": [
    {
     "name": "stdout",
     "output_type": "stream",
     "text": [
      "<_io.TextIOWrapper name='somefile.txt' mode='r' encoding='cp1252'>\n"
     ]
    }
   ],
   "source": [
    "with open('somefile.txt') as file_object:\n",
    "    print(file_object)"
   ]
  },
  {
   "cell_type": "code",
   "execution_count": 3,
   "id": "b66c092b",
   "metadata": {
    "scrolled": false
   },
   "outputs": [
    {
     "name": "stdout",
     "output_type": "stream",
     "text": [
      "GIHAN This is Line 1\n",
      "GIHAN This is line 2\n",
      "GIHAN This is line 3Tomatoes, cucumbers, celery\n",
      "\n"
     ]
    }
   ],
   "source": [
    "# Read a file, all contents as one string \n",
    "with open('somefile.txt') as text_file:\n",
    "  text_data = text_file.read()\n",
    "print(text_data)"
   ]
  },
  {
   "cell_type": "code",
   "execution_count": 4,
   "id": "aba04d09",
   "metadata": {},
   "outputs": [
    {
     "name": "stdout",
     "output_type": "stream",
     "text": [
      "GIHAN This is Line 1\n",
      "GIHAN This is line 2\n",
      "GIHAN This is line 3Tomatoes, cucumbers, celery\n",
      "Tomatoes, cucumbers, celery\n",
      "\n"
     ]
    }
   ],
   "source": [
    "with open('data/datasomefile.txt') as text_file:\n",
    "  text_data = text_file.read()\n",
    "print(text_data)"
   ]
  },
  {
   "cell_type": "code",
   "execution_count": 5,
   "id": "f44d1706",
   "metadata": {},
   "outputs": [
    {
     "name": "stdout",
     "output_type": "stream",
     "text": [
      "['GIHAN This is Line 1\\n', 'GIHAN This is line 2\\n', 'GIHAN This is line 3Tomatoes, cucumbers, celery\\n', 'Tomatoes, cucumbers, celery\\n']\n",
      "GIHAN This is Line 1\n",
      "\n",
      "GIHAN This is line 2\n",
      "\n",
      "GIHAN This is line 3Tomatoes, cucumbers, celery\n",
      "\n",
      "Tomatoes, cucumbers, celery\n",
      "\n"
     ]
    }
   ],
   "source": [
    "# This bring a array of strings. One string for each line\n",
    "with open('somefile.txt') as file_object:\n",
    "  file_data = file_object.readlines()\n",
    "print(file_data)\n",
    "\n",
    "for line in file_data:\n",
    "  print(line)"
   ]
  },
  {
   "cell_type": "code",
   "execution_count": 1,
   "id": "8ac0162c",
   "metadata": {},
   "outputs": [
    {
     "name": "stdout",
     "output_type": "stream",
     "text": [
      "GIHAN This is Line 1\n",
      "\n",
      "GIHAN This is line 2\n",
      "\n",
      "GIHAN This is line 3Tomatoes, cucumbers, celery\n",
      "\n"
     ]
    }
   ],
   "source": [
    "# Read line by line\n",
    "with open('somefile.txt') as story_object:\n",
    "  print(story_object.readline())\n",
    "  print(story_object.readline())\n",
    "  print(story_object.readline())"
   ]
  },
  {
   "cell_type": "code",
   "execution_count": 4,
   "id": "84c84ec4",
   "metadata": {},
   "outputs": [],
   "source": [
    "## if file is open on w all contents will be dedlete when you write\n",
    "\n",
    "#with open('diary.txt','w') as diary:\n",
    "#  diary.write('Special events for today')\n",
    "\n",
    "\n",
    "# Append will add a line\n",
    "\n",
    "with open('somefile.txt', 'a') as shop:\n",
    "  shop.write('Tomatoes, cucumbers, celery\\n')"
   ]
  },
  {
   "cell_type": "code",
   "execution_count": 6,
   "id": "746bdd8e",
   "metadata": {},
   "outputs": [
    {
     "name": "stdout",
     "output_type": "stream",
     "text": [
      "<class 'int'>\n",
      "<class 'float'>\n",
      "<class 'str'>\n",
      "<class 'NoneType'>\n"
     ]
    }
   ],
   "source": [
    "# Type function\n",
    "\n",
    "a = 1\n",
    "print(type(a)) # <class 'int'>\n",
    " \n",
    "a = 1.1\n",
    "print(type(a)) # <class 'float'>\n",
    " \n",
    "a = 'b'\n",
    "print(type(a)) # <class 'str'>\n",
    " \n",
    "a = None\n",
    "print(type(a)) # <class 'NoneType'>"
   ]
  },
  {
   "cell_type": "code",
   "execution_count": 8,
   "id": "51ed0ccd",
   "metadata": {},
   "outputs": [
    {
     "ename": "SyntaxError",
     "evalue": "Missing parentheses in call to 'print'. Did you mean print(Animal)? (<ipython-input-8-79a43e08b42c>, line 6)",
     "output_type": "error",
     "traceback": [
      "\u001b[1;36m  File \u001b[1;32m\"<ipython-input-8-79a43e08b42c>\"\u001b[1;36m, line \u001b[1;32m6\u001b[0m\n\u001b[1;33m    print Animal\u001b[0m\n\u001b[1;37m          ^\u001b[0m\n\u001b[1;31mSyntaxError\u001b[0m\u001b[1;31m:\u001b[0m Missing parentheses in call to 'print'. Did you mean print(Animal)?\n"
     ]
    }
   ],
   "source": [
    "class Animal:\n",
    "  def __init__(self, name, number_of_legs):\n",
    "    self.name = name\n",
    "    self.number_of_legs = number_of_legs\n",
    "    \n",
    "print Animal"
   ]
  },
  {
   "cell_type": "code",
   "execution_count": 9,
   "id": "e2269553",
   "metadata": {},
   "outputs": [
    {
     "name": "stdout",
     "output_type": "stream",
     "text": [
      "I am a Class Variable!\n",
      "I am a Class Variable!\n"
     ]
    }
   ],
   "source": [
    "# Class\n",
    "\n",
    "class my_class:\n",
    "  class_variable = \"I am a Class Variable!\"\n",
    "  \n",
    "x = my_class()\n",
    "y = my_class()\n",
    " \n",
    "print(x.class_variable) #I am a Class Variable!\n",
    "print(y.class_variable) #I am a Class Variable!\n"
   ]
  },
  {
   "cell_type": "code",
   "execution_count": 1,
   "id": "75419c44",
   "metadata": {},
   "outputs": [
    {
     "name": "stdout",
     "output_type": "stream",
     "text": [
      "Ham-Ham\n"
     ]
    }
   ],
   "source": [
    "# Dog class\n",
    "class Dog:\n",
    "  # Method of the class\n",
    "  def bark(self):\n",
    "    print(\"Ham-Ham\")\n",
    " \n",
    "# Create a new instance\n",
    "charlie = Dog()\n",
    " \n",
    "# Call the method\n",
    "charlie.bark()\n",
    "# This will output \"Ham-Ham\""
   ]
  },
  {
   "cell_type": "code",
   "execution_count": 9,
   "id": "a1558e1c",
   "metadata": {},
   "outputs": [
    {
     "name": "stdout",
     "output_type": "stream",
     "text": [
      "<class 'str'>\n",
      "<class 'str'>\n",
      "True\n",
      "False\n",
      "True\n"
     ]
    }
   ],
   "source": [
    "a= 'Big data'\n",
    "print (type(a))\n",
    "\n",
    "b= 'Examiner'\n",
    "print (type(b))\n",
    "\n",
    "c= 4.5 \n",
    "\n",
    "print (isinstance(a,str))\n",
    "print (isinstance(a,int))\n",
    "print (isinstance(c, (int, float)))"
   ]
  },
  {
   "cell_type": "code",
   "execution_count": 15,
   "id": "60e5c1d5",
   "metadata": {},
   "outputs": [
    {
     "data": {
      "text/plain": [
       "<function str.upper()>"
      ]
     },
     "execution_count": 15,
     "metadata": {},
     "output_type": "execute_result"
    }
   ],
   "source": [
    "a = 'Bill gates'\n",
    "a.upper # remove <tab> and press tab button"
   ]
  },
  {
   "cell_type": "code",
   "execution_count": 17,
   "id": "fdd12b75",
   "metadata": {},
   "outputs": [
    {
     "name": "stdout",
     "output_type": "stream",
     "text": [
      "['Python', 'R', 'c++', 'Php']\n"
     ]
    },
    {
     "ename": "TypeError",
     "evalue": "'tuple' object does not support item assignment",
     "output_type": "error",
     "traceback": [
      "\u001b[1;31m---------------------------------------------------------------------------\u001b[0m",
      "\u001b[1;31mTypeError\u001b[0m                                 Traceback (most recent call last)",
      "\u001b[1;32m<ipython-input-17-81ea6fb7e301>\u001b[0m in \u001b[0;36m<module>\u001b[1;34m\u001b[0m\n\u001b[0;32m      8\u001b[0m \u001b[1;31m#Strings and tuples are immutable\u001b[0m\u001b[1;33m\u001b[0m\u001b[1;33m\u001b[0m\u001b[1;33m\u001b[0m\u001b[0m\n\u001b[0;32m      9\u001b[0m \u001b[0mz_tuple\u001b[0m \u001b[1;33m=\u001b[0m \u001b[1;33m(\u001b[0m\u001b[1;36m9\u001b[0m\u001b[1;33m,\u001b[0m \u001b[1;36m10\u001b[0m\u001b[1;33m,\u001b[0m \u001b[1;36m11\u001b[0m\u001b[1;33m,\u001b[0m \u001b[1;36m23\u001b[0m\u001b[1;33m)\u001b[0m\u001b[1;33m\u001b[0m\u001b[1;33m\u001b[0m\u001b[0m\n\u001b[1;32m---> 10\u001b[1;33m \u001b[0mz_tuple\u001b[0m\u001b[1;33m[\u001b[0m\u001b[1;36m1\u001b[0m\u001b[1;33m]\u001b[0m \u001b[1;33m=\u001b[0m \u001b[1;34m'twenty two'\u001b[0m \u001b[1;31m# you cant mutate a tuple\u001b[0m\u001b[1;33m\u001b[0m\u001b[1;33m\u001b[0m\u001b[0m\n\u001b[0m\u001b[0;32m     11\u001b[0m \u001b[1;33m\u001b[0m\u001b[0m\n",
      "\u001b[1;31mTypeError\u001b[0m: 'tuple' object does not support item assignment"
     ]
    }
   ],
   "source": [
    "# Objects whose value can be changed, once they are created are called mutable objects. Objects whose value cannot be changed, once they are created are called immutable objects\n",
    "\n",
    "# list, dict, arrays are a mutable\n",
    "programming = ['Python', 'R', 'Java', 'Php']\n",
    "programming[2] ='c++'\n",
    "print (programming)\n",
    "\n",
    "#Strings and tuples are immutable\n",
    "z_tuple = (9, 10, 11, 23)\n",
    "z_tuple[1] = 'twenty two' # you cant mutate a tuple\n",
    "\n"
   ]
  },
  {
   "cell_type": "code",
   "execution_count": 25,
   "id": "8536f2aa",
   "metadata": {},
   "outputs": [
    {
     "name": "stdout",
     "output_type": "stream",
     "text": [
      "56664\n",
      "<class 'str'>\n",
      "['P', 'y', 't', 'h', 'o', 'n']\n",
      "Pyt\n",
      "hon\n"
     ]
    }
   ],
   "source": [
    "# many python objects can be converted to a string using 'str' function\n",
    "x = 56664\n",
    "y = str(x)\n",
    "print (y)\n",
    "print (type(y))\n",
    "# strings act like other sequences, such as lists and tuples\n",
    "a = 'Python'\n",
    "print (list(a))\n",
    "print (a[:3]) # you can slice a python string \n",
    "print (a[3:])"
   ]
  },
  {
   "cell_type": "code",
   "execution_count": 26,
   "id": "6b066f42",
   "metadata": {},
   "outputs": [
    {
     "data": {
      "text/plain": [
       "'Python is a powerful programming language'"
      ]
     },
     "execution_count": 26,
     "metadata": {},
     "output_type": "execute_result"
    }
   ],
   "source": [
    "x = 'Java is a powerful programming language'\n",
    "y = x.replace('Java', 'Python')\n",
    "y"
   ]
  },
  {
   "cell_type": "code",
   "execution_count": 30,
   "id": "e21199d6",
   "metadata": {},
   "outputs": [
    {
     "name": "stdout",
     "output_type": "stream",
     "text": [
      "Hii space left is just 0.987 gb, and  the data base is mysql\n",
      "Hii space left is just 0.987000 gb, and  the data base is mysql\n",
      "Hii space left is just 0 gb, and  the data base is mysql\n"
     ]
    }
   ],
   "source": [
    "print (\"Hii space left is just %.3f gb, and  the data base is %s\"  %(0.987, 'mysql'))\n",
    "print (\"Hii space left is just %f gb, and  the data base is %s\"  %(0.987, 'mysql'))\n",
    "print (\"Hii space left is just %d gb, and  the data base is %s\"  %(0.987, 'mysql'))"
   ]
  },
  {
   "cell_type": "code",
   "execution_count": 32,
   "id": "f68baf7a",
   "metadata": {},
   "outputs": [
    {
     "name": "stdout",
     "output_type": "stream",
     "text": [
      "False True\n",
      "True False\n"
     ]
    },
    {
     "data": {
      "text/plain": [
       "(False, True)"
      ]
     },
     "execution_count": 32,
     "metadata": {},
     "output_type": "execute_result"
    }
   ],
   "source": [
    "#Empty iterables(list, dict, strings, tuples etc) are treated as False ,if used with a control flow(if, for ,while.. etc)\n",
    "print (bool([]), bool([1,2,3]))\n",
    "print (bool('Hello Python!'), bool(''))\n",
    "bool(0), bool(1)"
   ]
  },
  {
   "cell_type": "code",
   "execution_count": 9,
   "id": "ab24783e",
   "metadata": {},
   "outputs": [
    {
     "name": "stdout",
     "output_type": "stream",
     "text": [
      "4.55\n",
      "big data\n"
     ]
    }
   ],
   "source": [
    "# suppose we want our float function to return the input value, we can do this using the folowing code.\n",
    "def return_float(x):\n",
    "    try:\n",
    "        return float(x)\n",
    "    except:\n",
    "        return x\n",
    "\n",
    "print (return_float('4.55'))\n",
    "print (return_float('big data')) # This time it didnt return a value error"
   ]
  },
  {
   "cell_type": "code",
   "execution_count": 15,
   "id": "25cb4d58",
   "metadata": {},
   "outputs": [
    {
     "name": "stdout",
     "output_type": "stream",
     "text": [
      "(9, 8)\n"
     ]
    }
   ],
   "source": [
    "#print float((9,8))  ->this will return a type error, remove the comment and check the output.\n",
    "def return_float(x):\n",
    "    try:\n",
    "        return float(x)\n",
    "    except(TypeError, ValueError):# type error and value error are mentioned as a exception values\n",
    "        return x\n",
    "print (return_float((9,8)))  #now you can see it returns 9,8"
   ]
  },
  {
   "cell_type": "code",
   "execution_count": 18,
   "id": "c80349bc",
   "metadata": {},
   "outputs": [
    {
     "name": "stdout",
     "output_type": "stream",
     "text": [
      "(4, 0, 2)\n",
      "('P', 'y', 't', 'h', 'o', 'n')\n"
     ]
    },
    {
     "data": {
      "text/plain": [
       "'P'"
      ]
     },
     "execution_count": 18,
     "metadata": {},
     "output_type": "execute_result"
    }
   ],
   "source": [
    "#Tuples are one dimensional, fixed length, imutable sequence of Python Objects.\n",
    "#You can convert any sequence to a tuple by using 'tuple' keyword\n",
    "print (tuple([4,0,2]))\n",
    "pythonista = tuple('Python')\n",
    "print (pythonista)\n",
    "pythonista[0] # you can accessing each element in a tuple, "
   ]
  },
  {
   "cell_type": "code",
   "execution_count": 21,
   "id": "c0cc7cb3",
   "metadata": {},
   "outputs": [
    {
     "name": "stdout",
     "output_type": "stream",
     "text": [
      "('Mean', 'Median', 'Mode', 'Chisquare', 'Annova', 'statistical significance')\n",
      "('Mean', 'Median', 'Mean', 'Median', 'Mean', 'Median', 'Mean', 'Median')\n"
     ]
    }
   ],
   "source": [
    "y = ('Mean', 'Median', 'Mode')+('Chisquare', 'Annova') + ('statistical significance',) # you can concatenate a tuple using'+' symbol. \n",
    "print (y)\n",
    "x=('Mean', 'Median') *4  # try printing a tuple using a number\n",
    "print (x)"
   ]
  },
  {
   "cell_type": "code",
   "execution_count": 23,
   "id": "444a4a29",
   "metadata": {},
   "outputs": [
    {
     "name": "stdout",
     "output_type": "stream",
     "text": [
      "['Usa', 'India', 'Canada', 'Turkey', 'Britian', ' Pakistan', 'Uzbekistan', 'Afghanistan']\n"
     ]
    }
   ],
   "source": [
    "# List \n",
    "\n",
    "countries =['Usa', 'India','Afghanistan',' Pakistan']\n",
    "y = countries.extend(['Britian', 'Canada', 'Uzbekistan', 'Turkey'])\n",
    "z = countries.sort(key=len) # countries are sorted according to number of characters\n",
    "print (countries) \n",
    "# extend can be a handy feature when your lists are large.\n"
   ]
  },
  {
   "cell_type": "code",
   "execution_count": 25,
   "id": "ac12d8ca",
   "metadata": {},
   "outputs": [
    {
     "name": "stdout",
     "output_type": "stream",
     "text": [
      "[25, 34, 45, 53, 56, 63, 89, 99]\n",
      "[' ', ' ', 'B', 'a', 'a', 'a', 'd', 'e', 'e', 'g', 'i', 'i', 'm', 'n', 'r', 't', 'x']\n"
     ]
    }
   ],
   "source": [
    "#Sorted function returns a new sorted list from a sequence\n",
    "print (sorted([89, 99,45,63,25,53,34,56]))\n",
    "print (sorted('Big data examiner'))"
   ]
  },
  {
   "cell_type": "code",
   "execution_count": 34,
   "id": "0285c495",
   "metadata": {},
   "outputs": [
    {
     "name": "stdout",
     "output_type": "stream",
     "text": [
      "<zip object at 0x000001BA38495C00>\n",
      "0: Big_data, c\n",
      "1: data science, c++\n",
      "2: data scientist, java\n",
      "3: data base developer, python\n"
     ]
    }
   ],
   "source": []
  },
  {
   "cell_type": "code",
   "execution_count": 3,
   "id": "e8d584ac",
   "metadata": {},
   "outputs": [
    {
     "name": "stdout",
     "output_type": "stream",
     "text": [
      "List\n",
      "[180, 215, 210, 210, 188, 176, 209, 200]\n",
      "Numpy Array\n",
      "[180 215 210 210 188 176 209 200]\n"
     ]
    }
   ],
   "source": [
    "# Create list baseball\n",
    "baseball = [180, 215, 210, 210, 188, 176, 209, 200]\n",
    "\n",
    "# Import the numpy package as np\n",
    "import numpy as np\n",
    "\n",
    "# Create a Numpy array from baseball: np_baseball\n",
    "np_baseball = np.array(baseball)\n",
    "\n",
    "# Print out type of np_baseball\n",
    "print(\"List\")\n",
    "print(baseball)\n",
    "print(\"Numpy Array\")\n",
    "print(np_baseball)"
   ]
  },
  {
   "cell_type": "code",
   "execution_count": null,
   "id": "7b6c520b",
   "metadata": {},
   "outputs": [],
   "source": []
  },
  {
   "cell_type": "code",
   "execution_count": null,
   "id": "c0302a21",
   "metadata": {},
   "outputs": [],
   "source": []
  }
 ],
 "metadata": {
  "kernelspec": {
   "display_name": "Python 3",
   "language": "python",
   "name": "python3"
  },
  "language_info": {
   "codemirror_mode": {
    "name": "ipython",
    "version": 3
   },
   "file_extension": ".py",
   "mimetype": "text/x-python",
   "name": "python",
   "nbconvert_exporter": "python",
   "pygments_lexer": "ipython3",
   "version": "3.8.8"
  }
 },
 "nbformat": 4,
 "nbformat_minor": 5
}
